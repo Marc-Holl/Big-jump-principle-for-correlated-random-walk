{
 "cells": [
  {
   "cell_type": "markdown",
   "metadata": {},
   "source": [
    "# Big jump principle for heavy-tailed random walk with correlated increments\n",
    "This file presents an overview of our work in the preprint https://arxiv.org/abs/2106.14222.\n",
    "\n",
    "The big jump principle explains the emergence of extreme events for physical quantities modelled by a sum of independent and identically distributed random variables which are heavy-tailed. Extreme events are large values of the sum and they are solely dominated by the largest summand called the big jump. Recently, the principle was introduced into physical sciences where systems usually exhibit correlations. Here, we study the principle for a random walk with correlated increments. Examples are the autoregressive model of first order and the discretized Ornstein-Uhlenbeck process both with heavy-tailed noise."
   ]
  },
  {
   "cell_type": "markdown",
   "metadata": {},
   "source": [
    "# The model\n",
    "\n",
    "We consider a random walk $\\widetilde{x}_N$ which is the sum\n",
    "$$\\widetilde{x}_N=\\sum_{i=1}^N \\widetilde{\\delta}_i.$$\n",
    "The $N$ increments $\\widetilde{\\delta}_i$ are correlated among each other. We construct them via the weighted sum\n",
    "$$\\widetilde{\\delta}_i=\\sum_{j=1}^iM_{i-j}\\delta_j.$$\n",
    "Here, we have the memory kernel $M_{i-j}$ and independent and identically distributed (iid) random variables $\\delta_i$, $i=1,\\ldots,N$.\n",
    "\n",
    "The probability density function of the iid random variables follow for large values a power law\n",
    "$$p(\\delta_i)\\sim A {\\delta_i}^{-1-\\alpha}$$\n",
    "with some prefactor $A$ and the exponent $\\alpha\\in(0,1)$ or $\\alpha\\in(1,2)$.\n",
    "\n",
    "The memory kernel can be exponential\n",
    "$$M_{i-j}=m^{i-j}, 0<m<1,$$\n",
    "or\n",
    "algebraical\n",
    "$$M_{i-j}=(i-j+1)^{-\\beta}, 0<\\beta<1.$$\n",
    "A special case is $M_0=1$ and $M_{i-j}=1$ otherwise: Then the model reduces to the random walk with iid increments."
   ]
  },
  {
   "cell_type": "markdown",
   "metadata": {},
   "source": [
    "# Two the big jump principles\n",
    "Generally, a big jump principle relates the distributions of the sum $\\widetilde{x}_N$ and the maximum $\\widetilde{\\delta}_\\mathrm{max}=\\mathrm{max}(\\widetilde{\\delta}_1,\\ldots,\\widetilde{\\delta}_N)$ when both are large.\n",
    "\n",
    "We have two big jump principles: 1) Unconditional and 2) Conditional on the step number of the maximum."
   ]
  },
  {
   "cell_type": "markdown",
   "metadata": {},
   "source": [
    "# Unconditional big jump principle\n",
    "For large $z$ and any $N$, the unconditional (it doesn't matter where the maximum happens) big jump principle is\n",
    "$$\\mathrm{Prob}(\\widetilde{x}_N>z) \\sim \\frac{\\widetilde{\\gamma}_N}{N}\\mathrm{Prob}(\\widetilde{\\delta}_\\mathrm{max}>z) $$\n",
    "with\n",
    "$$\\widetilde{\\gamma}_N=\\sum_{k=1}^N\\left(\\sum_{l=0}^{N-k}M_l\\right)^\\alpha.$$"
   ]
  },
  {
   "cell_type": "markdown",
   "metadata": {},
   "source": [
    "# Conditional big jump principle\n",
    "Let the maximum happen at $i=b$. For large $z$ and any $N$, the conditional big jump principle is\n",
    "$$\\mathrm{Prob}(\\widetilde{x}_N>z|b) \\sim \\left(\\sum_{l=0}^{N-b} M_l\\right)^\\alpha\\mathrm{Prob}(\\widetilde{\\delta}_\\mathrm{max}>z|b).$$"
   ]
  },
  {
   "cell_type": "markdown",
   "metadata": {},
   "source": [
    "# Python code for the scatter plot"
   ]
  },
  {
   "cell_type": "markdown",
   "metadata": {},
   "source": [
    "# Python code for a scatter plot analysis\n",
    "The following code simulations $r$ realizations of $\\widetilde{x}_N$. For each realizations, we plot $(\\widetilde{\\delta}_\\mathrm{max},\\widetilde{x}_N)$ into a scatter plot. According to our theory, we observe $N$ lines in the scatter plot. In below example, we have $N=2$."
   ]
  },
  {
   "cell_type": "code",
   "execution_count": 51,
   "metadata": {},
   "outputs": [],
   "source": [
    "n=2\n",
    "alpha=1.5\n",
    "m=0.9\n",
    "beta=0.5\n",
    "r=100000 # number of realizations\n",
    "\n",
    "size_of_font=24\n",
    "size_of_ticks=17\n",
    "size_of_marker=8\n",
    "width_of_marker=1\n",
    "width_of_line=2"
   ]
  },
  {
   "cell_type": "code",
   "execution_count": 52,
   "metadata": {},
   "outputs": [],
   "source": [
    "import numpy as np\n",
    "from scipy.stats import levy_stable\n",
    "\n",
    "tilde_delta_max=np.zeros(r)\n",
    "tilde_x_N=np.zeros(r)\n",
    "\n",
    "M_exp=np.zeros(n)\n",
    "M_alg=np.zeros(n)\n",
    "for n_c in range(n):\n",
    "    M_exp[n_c]=m**n_c\n",
    "    M_alg[n_c]=(n_c+1)**(-beta)\n",
    "M_exp_flip=np.flip(M_exp)\n",
    "M_alg_flip=np.flip(M_alg)\n",
    "\n",
    "\n",
    "for r_c in range(r):\n",
    "    #d=np.random.exponential(1,n)\n",
    "    delta=np.random.pareto(alpha,n)+1\n",
    "    #d=levy_stable.rvs(alpha,beta=0.6,loc=0,scale=1,size=n)\n",
    "\n",
    "    tilde_delta=np.zeros(n)\n",
    "    for n_c in range(n):\n",
    "        tilde_delta[n_c]=np.sum(delta[:n_c+1]*M_exp_flip[-n_c-1:]) \n",
    "  \n",
    "    tilde_delta_max[r_c]=np.max(tilde_delta)\n",
    "    tilde_x_N[r_c]=np.sum(tilde_delta)"
   ]
  },
  {
   "cell_type": "code",
   "execution_count": 53,
   "metadata": {},
   "outputs": [
    {
     "data": {
      "text/plain": [
       "Text(0, 0.5, '$\\\\tilde{x}_N$')"
      ]
     },
     "execution_count": 53,
     "metadata": {},
     "output_type": "execute_result"
    },
    {
     "data": {
      "image/png": "[encoded data removed]",
      "text/plain": [
       "<Figure size 432x288 with 1 Axes>"
      ]
     },
     "metadata": {
      "needs_background": "light"
     },
     "output_type": "display_data"
    }
   ],
   "source": [
    "import matplotlib.pyplot as plt\n",
    "%matplotlib inline\n",
    "\n",
    "plt.plot(tilde_delta_max,tilde_x_N,'ro',fillstyle='none',ms=size_of_marker,mew=width_of_marker)\n",
    "\n",
    "plt.xlim(0,1000)\n",
    "plt.ylim(0,1000)\n",
    "plt.xticks(fontsize=size_of_ticks)\n",
    "plt.yticks(fontsize=size_of_ticks)\n",
    "plt.xlabel(r'$\\tilde{\\delta}_\\mathrm{max}$',fontsize=size_of_font)\n",
    "plt.ylabel(r'$\\tilde{x}_N$',fontsize=size_of_font)\n",
    "\n"
   ]
  },
  {
   "cell_type": "code",
   "execution_count": null,
   "metadata": {},
   "outputs": [],
   "source": []
  },
  {
   "cell_type": "code",
   "execution_count": null,
   "metadata": {},
   "outputs": [],
   "source": []
  }
 ],
 "metadata": {
  "kernelspec": {
   "display_name": "Python 3",
   "language": "python",
   "name": "python3"
  },
  "language_info": {
   "codemirror_mode": {
    "name": "ipython",
    "version": 3
   },
   "file_extension": ".py",
   "mimetype": "text/x-python",
   "name": "python",
   "nbconvert_exporter": "python",
   "pygments_lexer": "ipython3",
   "version": "3.7.6"
  }
 },
 "nbformat": 4,
 "nbformat_minor": 4
}
